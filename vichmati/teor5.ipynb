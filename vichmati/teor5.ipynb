{
 "cells": [
  {
   "cell_type": "code",
   "execution_count": 27,
   "id": "7810528d",
   "metadata": {},
   "outputs": [],
   "source": [
    "import numpy as np\n",
    "import scipy"
   ]
  },
  {
   "cell_type": "markdown",
   "id": "ee17c088",
   "metadata": {},
   "source": [
    "Введем данные:"
   ]
  },
  {
   "cell_type": "code",
   "execution_count": 28,
   "id": "984ef67a",
   "metadata": {},
   "outputs": [],
   "source": [
    "A = np.array([[1, 1], [2, -1], [1,3 ], [3, 1]],dtype=np.float64)\n",
    "b = np.array([3, 0.2, 7, 5])"
   ]
  },
  {
   "cell_type": "markdown",
   "id": "ff446fa8",
   "metadata": {},
   "source": [
    "Видно, что столбцы $A$ -- линейно независимы. Следовательно, $x = (A^TA)^{-1}A^Tb$ -- решение. Посчитаем сначала $A^TA$."
   ]
  },
  {
   "cell_type": "code",
   "execution_count": 29,
   "id": "74917c0c",
   "metadata": {},
   "outputs": [
    {
     "data": {
      "text/plain": [
       "array([[15.,  5.],\n",
       "       [ 5., 12.]])"
      ]
     },
     "execution_count": 29,
     "metadata": {},
     "output_type": "execute_result"
    }
   ],
   "source": [
    "diag = A.T @ A\n",
    "diag"
   ]
  },
  {
   "cell_type": "markdown",
   "id": "7b23b694",
   "metadata": {},
   "source": [
    "Инвертируем ее:"
   ]
  },
  {
   "cell_type": "code",
   "execution_count": 30,
   "id": "24cb59cb",
   "metadata": {},
   "outputs": [
    {
     "data": {
      "text/plain": [
       "array([[ 0.07741935, -0.03225806],\n",
       "       [-0.03225806,  0.09677419]])"
      ]
     },
     "execution_count": 30,
     "metadata": {},
     "output_type": "execute_result"
    }
   ],
   "source": [
    "inverse = np.linalg.inv(diag)\n",
    "inverse"
   ]
  },
  {
   "cell_type": "markdown",
   "id": "3891426a",
   "metadata": {},
   "source": [
    "Посчитаем ответ:"
   ]
  },
  {
   "cell_type": "code",
   "execution_count": 31,
   "id": "c47c7bcf",
   "metadata": {},
   "outputs": [
    {
     "data": {
      "text/plain": [
       "array([1.03741935, 1.96774194])"
      ]
     },
     "execution_count": 31,
     "metadata": {},
     "output_type": "execute_result"
    }
   ],
   "source": [
    "x = inverse @ A.T @ b\n",
    "x"
   ]
  },
  {
   "cell_type": "markdown",
   "id": "b5203418",
   "metadata": {},
   "source": [
    "Сравним со встроенной функцией решения:"
   ]
  },
  {
   "cell_type": "code",
   "execution_count": 32,
   "id": "28d88955",
   "metadata": {},
   "outputs": [
    {
     "name": "stderr",
     "output_type": "stream",
     "text": [
      "/tmp/ipykernel_461745/2875946979.py:1: FutureWarning: `rcond` parameter will change to the default of machine precision times ``max(M, N)`` where M and N are the input matrix dimensions.\n",
      "To use the future default and silence this warning we advise to pass `rcond=None`, to keep using the old, explicitly pass `rcond=-1`.\n",
      "  np.linalg.norm(x - np.linalg.lstsq(A, b)[0])\n"
     ]
    },
    {
     "data": {
      "text/plain": [
       "6.280369834735101e-16"
      ]
     },
     "execution_count": 32,
     "metadata": {},
     "output_type": "execute_result"
    }
   ],
   "source": [
    "np.linalg.norm(x - np.linalg.lstsq(A, b)[0])"
   ]
  },
  {
   "cell_type": "code",
   "execution_count": null,
   "id": "8d8c188c",
   "metadata": {},
   "outputs": [],
   "source": []
  },
  {
   "cell_type": "code",
   "execution_count": 37,
   "id": "4d8cf2f0",
   "metadata": {},
   "outputs": [
    {
     "data": {
      "text/plain": [
       "(array([37.27013192,  4.33361895,  0.39624913]),\n",
       " array([[-0.19894321, -0.89363827, -0.40228379],\n",
       "        [-0.95035444,  0.27613894, -0.14343547],\n",
       "        [-0.23926564, -0.35377668,  0.90420906]]))"
      ]
     },
     "execution_count": 37,
     "metadata": {},
     "output_type": "execute_result"
    }
   ],
   "source": [
    "A = np.array([[1, 0, 1], [2, 3, 1], [0, 5, 1]])\n",
    "np.linalg.eig(A.T @ A)"
   ]
  },
  {
   "cell_type": "code",
   "execution_count": 34,
   "id": "afc326e9",
   "metadata": {},
   "outputs": [
    {
     "data": {
      "text/plain": [
       "array([[ 2,  3,  1],\n",
       "       [ 3, 14, 16],\n",
       "       [ 1, 16, 26]])"
      ]
     },
     "execution_count": 34,
     "metadata": {},
     "output_type": "execute_result"
    }
   ],
   "source": [
    "A @ A.T"
   ]
  },
  {
   "cell_type": "code",
   "execution_count": 35,
   "id": "6f708a2e",
   "metadata": {},
   "outputs": [
    {
     "data": {
      "text/plain": [
       "(array([[-0.07177954,  0.59921901,  0.79736082],\n",
       "        [-0.57137709,  0.63054934, -0.52529586],\n",
       "        [-0.81754261, -0.4932992 ,  0.29711947]]),\n",
       " array([6.10492686, 2.0817346 , 0.62948323]),\n",
       " array([[-0.19894321, -0.95035444, -0.23926564],\n",
       "        [ 0.89363827, -0.27613894,  0.35377668],\n",
       "        [-0.40228379, -0.14343547,  0.90420906]]))"
      ]
     },
     "execution_count": 35,
     "metadata": {},
     "output_type": "execute_result"
    }
   ],
   "source": [
    "scipy.linalg.svd(np.array([[1, 0, 1], [2, 3, 1], [0, 5, 1]]))"
   ]
  },
  {
   "cell_type": "code",
   "execution_count": 36,
   "id": "6bbb2a00",
   "metadata": {},
   "outputs": [
    {
     "data": {
      "text/plain": [
       "0.6244997998398398"
      ]
     },
     "execution_count": 36,
     "metadata": {},
     "output_type": "execute_result"
    }
   ],
   "source": [
    "np.sqrt(0.39)"
   ]
  },
  {
   "cell_type": "code",
   "execution_count": 12,
   "id": "ed1dea9a",
   "metadata": {},
   "outputs": [
    {
     "data": {
      "text/plain": [
       "4.141961386064743"
      ]
     },
     "execution_count": 12,
     "metadata": {},
     "output_type": "execute_result"
    }
   ],
   "source": [
    "A = np.array([[3, 9.1, 2.1], [1.5, 3.5, 7], [5.4, 1.8, 5.3]])\n",
    "np.linalg.cond(A)"
   ]
  },
  {
   "cell_type": "code",
   "execution_count": 13,
   "id": "cd1e8e6a",
   "metadata": {},
   "outputs": [
    {
     "data": {
      "text/plain": [
       "5.413871073455666"
      ]
     },
     "execution_count": 13,
     "metadata": {},
     "output_type": "execute_result"
    }
   ],
   "source": [
    "np.linalg.norm(np.array([4.1, 1.7, 3.1]))"
   ]
  },
  {
   "cell_type": "code",
   "execution_count": 14,
   "id": "99dbefd4",
   "metadata": {},
   "outputs": [
    {
     "data": {
      "text/plain": [
       "0.32075014954979203"
      ]
     },
     "execution_count": 14,
     "metadata": {},
     "output_type": "execute_result"
    }
   ],
   "source": [
    "np.sqrt(3) / 5.4"
   ]
  },
  {
   "cell_type": "code",
   "execution_count": null,
   "id": "fc93e981",
   "metadata": {},
   "outputs": [],
   "source": []
  }
 ],
 "metadata": {
  "kernelspec": {
   "display_name": "Python 3 (ipykernel)",
   "language": "python",
   "name": "python3"
  },
  "language_info": {
   "codemirror_mode": {
    "name": "ipython",
    "version": 3
   },
   "file_extension": ".py",
   "mimetype": "text/x-python",
   "name": "python",
   "nbconvert_exporter": "python",
   "pygments_lexer": "ipython3",
   "version": "3.8.10"
  }
 },
 "nbformat": 4,
 "nbformat_minor": 5
}
