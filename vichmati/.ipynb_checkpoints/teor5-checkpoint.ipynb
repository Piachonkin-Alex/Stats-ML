{
 "cells": [
  {
   "cell_type": "code",
   "execution_count": 1,
   "id": "7810528d",
   "metadata": {},
   "outputs": [],
   "source": [
    "import numpy as np"
   ]
  },
  {
   "cell_type": "markdown",
   "id": "ee17c088",
   "metadata": {},
   "source": [
    "Введем данные:"
   ]
  },
  {
   "cell_type": "code",
   "execution_count": 20,
   "id": "984ef67a",
   "metadata": {},
   "outputs": [],
   "source": [
    "A = np.array([[1, 1], [2, -1], [1,3 ], [3, 1]],dtype=np.float64)\n",
    "b = np.array([3, 0.2, 7, 5])"
   ]
  },
  {
   "cell_type": "markdown",
   "id": "ff446fa8",
   "metadata": {},
   "source": [
    "Видно, что столбцы $A$ -- линейно независимы. Следовательно, $x = (A^TA)^{-1}A^Tb$ -- решение. Посчитаем сначала $A^TA$."
   ]
  },
  {
   "cell_type": "code",
   "execution_count": 22,
   "id": "74917c0c",
   "metadata": {},
   "outputs": [
    {
     "data": {
      "text/plain": [
       "array([[15.,  5.],\n",
       "       [ 5., 12.]])"
      ]
     },
     "execution_count": 22,
     "metadata": {},
     "output_type": "execute_result"
    }
   ],
   "source": [
    "diag = A.T @ A\n",
    "diag"
   ]
  },
  {
   "cell_type": "markdown",
   "id": "7b23b694",
   "metadata": {},
   "source": [
    "Инвертируем ее:"
   ]
  },
  {
   "cell_type": "code",
   "execution_count": 24,
   "id": "24cb59cb",
   "metadata": {},
   "outputs": [
    {
     "data": {
      "text/plain": [
       "array([[ 0.07741935, -0.03225806],\n",
       "       [-0.03225806,  0.09677419]])"
      ]
     },
     "execution_count": 24,
     "metadata": {},
     "output_type": "execute_result"
    }
   ],
   "source": [
    "inverse = np.linalg.inv(diag)\n",
    "inverse"
   ]
  },
  {
   "cell_type": "markdown",
   "id": "3891426a",
   "metadata": {},
   "source": [
    "Посчитаем ответ:"
   ]
  },
  {
   "cell_type": "code",
   "execution_count": 28,
   "id": "c47c7bcf",
   "metadata": {},
   "outputs": [
    {
     "data": {
      "text/plain": [
       "array([1.03741935, 1.96774194])"
      ]
     },
     "execution_count": 28,
     "metadata": {},
     "output_type": "execute_result"
    }
   ],
   "source": [
    "x = inverse @ A.T @ b\n",
    "x"
   ]
  },
  {
   "cell_type": "markdown",
   "id": "b5203418",
   "metadata": {},
   "source": [
    "Сравним со встроенной функцией решения:"
   ]
  },
  {
   "cell_type": "code",
   "execution_count": 29,
   "id": "28d88955",
   "metadata": {},
   "outputs": [
    {
     "name": "stderr",
     "output_type": "stream",
     "text": [
      "/tmp/ipykernel_146410/2875946979.py:1: FutureWarning: `rcond` parameter will change to the default of machine precision times ``max(M, N)`` where M and N are the input matrix dimensions.\n",
      "To use the future default and silence this warning we advise to pass `rcond=None`, to keep using the old, explicitly pass `rcond=-1`.\n",
      "  np.linalg.norm(x - np.linalg.lstsq(A, b)[0])\n"
     ]
    },
    {
     "data": {
      "text/plain": [
       "6.280369834735101e-16"
      ]
     },
     "execution_count": 29,
     "metadata": {},
     "output_type": "execute_result"
    }
   ],
   "source": [
    "np.linalg.norm(x - np.linalg.lstsq(A, b)[0])"
   ]
  },
  {
   "cell_type": "code",
   "execution_count": null,
   "id": "8d8c188c",
   "metadata": {},
   "outputs": [],
   "source": []
  },
  {
   "cell_type": "code",
   "execution_count": null,
   "id": "16d3de07",
   "metadata": {},
   "outputs": [],
   "source": [
    " "
   ]
  }
 ],
 "metadata": {
  "kernelspec": {
   "display_name": "Python 3 (ipykernel)",
   "language": "python",
   "name": "python3"
  },
  "language_info": {
   "codemirror_mode": {
    "name": "ipython",
    "version": 3
   },
   "file_extension": ".py",
   "mimetype": "text/x-python",
   "name": "python",
   "nbconvert_exporter": "python",
   "pygments_lexer": "ipython3",
   "version": "3.8.10"
  }
 },
 "nbformat": 4,
 "nbformat_minor": 5
}
