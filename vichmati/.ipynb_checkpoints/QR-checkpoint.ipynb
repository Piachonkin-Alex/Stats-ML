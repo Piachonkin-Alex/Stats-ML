{
 "cells": [
  {
   "cell_type": "code",
   "execution_count": 1,
   "id": "lasting-excitement",
   "metadata": {},
   "outputs": [],
   "source": [
    "import numpy as np"
   ]
  },
  {
   "cell_type": "markdown",
   "id": "rubber-hobby",
   "metadata": {},
   "source": [
    "Сначала реализуем QR-разложение. Найдем $Q$ с помощью модифицированного алгоритма Грамма-Шмидта, чтобы избежать потери ортогональности. Чтобы найти $R$, нужно умножить $A$ на $Q^T$, т.к. столбцы матрицы $Q$ ортогональны и произведение $Q^TQ = I$, где $I$ - единичная матрица соответсвующей размерности. \n",
    "\n",
    "Вспомогательные функции dot_prod и norm_2 вычисляют скалярное произведение и вторую норму соответственно.\n",
    "\n",
    "Функция Gram_Schmidt(A) реализует модифицированный алгоритм Грамма-Шмидта.\n",
    "\n",
    "Функция QR(A) возвращает QR-разложение матрицы  A."
   ]
  },
  {
   "cell_type": "code",
   "execution_count": null,
   "id": "central-interpretation",
   "metadata": {},
   "outputs": [],
   "source": [
    "def dot_prod(a, b):\n",
    "    return np.sum(a * b)\n",
    "\n",
    "def norm_2(a):\n",
    "    return dot_prod(a, a) ** 0.5\n",
    "\n",
    "def Gram_Schmidt(A):\n",
    "    A1 = A.copy()\n",
    "    (m, n) = A1.shape\n",
    "    Q = np.empty((m, n))\n",
    "    for j in range(0, n):\n",
    "        p = A1[:, j]\n",
    "        for i in range(0, j):\n",
    "            p -= Q[:, i] * dot_prod(p, Q[:, i])\n",
    "        print(p)\n",
    "        Q[:, j] = p / norm_2(p)\n",
    "    return Q\n",
    "\n",
    "def QR(A):\n",
    "    A1 = A.copy()\n",
    "    Q = Gram_Schmidt(A1)\n",
    "    R = Q.T @ A1\n",
    "    return Q, R"
   ]
  },
  {
   "cell_type": "markdown",
   "id": "printable-subject",
   "metadata": {},
   "source": [
    "Реализуем метод обратной подстановки для решения системы с верхнетреугольной матрицей $R$. Для нахождения решения системы $Ax = b$, где $A = QR$, используя $Ax=b \\Rightarrow Q^T(QRx) = Q^Tb \\Rightarrow Rx = y, y = Q^Tb$.\n",
    "\n",
    "Функция reverse_substitution(A, b) реализует метод обратной подстановки для верхнетреугольной матрицы A и вектора правой части b.\n",
    "\n",
    "Функция solve(A, b) реализует решение с помощью QR-разложения матрицы A и вектора правой части b и возвращает вектор решений x и матрицы Q, R.\n",
    "\n",
    "Функция difference(A, b) возвращает вторую норму, между полученным с помощью solve решением системы $Ax=b$ и решением с помощью np.linalg.lstsq(A, b)."
   ]
  },
  {
   "cell_type": "code",
   "execution_count": 3,
   "id": "scheduled-thomas",
   "metadata": {},
   "outputs": [],
   "source": [
    "def reverse_substitution(A, b):\n",
    "    n = len(b)\n",
    "    sol = np.empty(n)\n",
    "    for i in range(n-1, -1, -1):\n",
    "        sol[i] = (b[i] - np.sum(A[i, i+1:] * sol[i+1:])) / A[i, i]\n",
    "    return sol\n",
    "\n",
    "def solve(A, b):\n",
    "    Q, R = QR(A)\n",
    "    y = Q.T @ b\n",
    "    x = reverse_substitution(R, y)\n",
    "    return x, Q, R\n",
    "\n",
    "def difference(A, b):\n",
    "    return norm_2(np.linalg.lstsq(A, b)[0] - solve(A, b)[0])\n"
   ]
  },
  {
   "cell_type": "markdown",
   "id": "continental-webcam",
   "metadata": {},
   "source": [
    "Таким образом, получаем решение с помощью  QR-разложения, которое вычисляется за $O(n^3)$, и позволяет так же решать с помощью МНК переопределенные системы.\n",
    "\n",
    "На вход функции solve_with_QR должны подаваться матрица A и вектор правой части b. Матрица A должна быть либо квадратной невырожденной, либо прямоугольной $A \\in \\mathbb{R}^{m\\times n}$, где $m>n$. В ходе работы функции выводится вторая норма разницы между реализованным решением и решением, полученным с помощью np.linalg.lstsq(A, b). Функция возвращает матрицы Q, R и вектор решений x."
   ]
  },
  {
   "cell_type": "code",
   "execution_count": 4,
   "id": "functional-teach",
   "metadata": {},
   "outputs": [],
   "source": [
    "def solve_with_QR(A, b):\n",
    "    x, Q, R = solve(A, b)\n",
    "    print(difference(A, b))\n",
    "    return Q, R, x"
   ]
  },
  {
   "cell_type": "markdown",
   "id": "labeled-swift",
   "metadata": {},
   "source": [
    "## Примеры:"
   ]
  },
  {
   "cell_type": "code",
   "execution_count": 5,
   "id": "incorporated-fairy",
   "metadata": {},
   "outputs": [
    {
     "name": "stdout",
     "output_type": "stream",
     "text": [
      "7.226968957078508e-13\n",
      "9.50799561548756e-14\n"
     ]
    },
    {
     "name": "stderr",
     "output_type": "stream",
     "text": [
      "/usr/lib/python3/dist-packages/ipykernel_launcher.py:15: FutureWarning: `rcond` parameter will change to the default of machine precision times ``max(M, N)`` where M and N are the input matrix dimensions.\n",
      "To use the future default and silence this warning we advise to pass `rcond=None`, to keep using the old, explicitly pass `rcond=-1`.\n",
      "  from ipykernel import kernelapp as app\n"
     ]
    }
   ],
   "source": [
    "A1 = np.random.rand(3, 3)\n",
    "b1 = np.random.rand(3)\n",
    "Q, R, x = solve_with_QR(A1, b1)\n",
    "\n",
    "A2 = np.random.rand(4, 3)\n",
    "b2 = np.random.rand(4)\n",
    "Q, R, x = solve_with_QR(A2, b2)"
   ]
  },
  {
   "cell_type": "code",
   "execution_count": 11,
   "id": "controlling-acquisition",
   "metadata": {},
   "outputs": [
    {
     "name": "stdout",
     "output_type": "stream",
     "text": [
      "7.565825760292109e-15\n"
     ]
    },
    {
     "name": "stderr",
     "output_type": "stream",
     "text": [
      "/usr/lib/python3/dist-packages/ipykernel_launcher.py:15: FutureWarning: `rcond` parameter will change to the default of machine precision times ``max(M, N)`` where M and N are the input matrix dimensions.\n",
      "To use the future default and silence this warning we advise to pass `rcond=None`, to keep using the old, explicitly pass `rcond=-1`.\n",
      "  from ipykernel import kernelapp as app\n"
     ]
    }
   ],
   "source": [
    "A = np.array([[1., -2., 1.],[-2., 3., -1.],[1., -3., 3.]])\n",
    "b = np.array([-1., 0., -4.])\n",
    "Q, R, x = solve_with_QR(A, b)"
   ]
  },
  {
   "cell_type": "code",
   "execution_count": 12,
   "id": "transsexual-aaron",
   "metadata": {},
   "outputs": [
    {
     "data": {
      "text/plain": [
       "array([ 2.,  1., -1.])"
      ]
     },
     "execution_count": 12,
     "metadata": {},
     "output_type": "execute_result"
    }
   ],
   "source": [
    "x"
   ]
  },
  {
   "cell_type": "code",
   "execution_count": 13,
   "id": "renewable-joseph",
   "metadata": {},
   "outputs": [
    {
     "data": {
      "text/plain": [
       "array([ 2.,  1., -1.])"
      ]
     },
     "execution_count": 13,
     "metadata": {},
     "output_type": "execute_result"
    }
   ],
   "source": [
    "np.linalg.solve(A, b)"
   ]
  },
  {
   "cell_type": "code",
   "execution_count": 14,
   "id": "loaded-cutting",
   "metadata": {},
   "outputs": [
    {
     "data": {
      "text/plain": [
       "array([-1.,  0., -4.])"
      ]
     },
     "execution_count": 14,
     "metadata": {},
     "output_type": "execute_result"
    }
   ],
   "source": [
    "A @ np.array([2., 1., -1.])"
   ]
  },
  {
   "cell_type": "code",
   "execution_count": 15,
   "id": "hindu-hepatitis",
   "metadata": {},
   "outputs": [
    {
     "data": {
      "text/plain": [
       "array([[ 1., -2.,  1.],\n",
       "       [-2.,  3., -1.],\n",
       "       [ 1., -3.,  3.]])"
      ]
     },
     "execution_count": 15,
     "metadata": {},
     "output_type": "execute_result"
    }
   ],
   "source": [
    "A"
   ]
  },
  {
   "cell_type": "code",
   "execution_count": null,
   "id": "defensive-damages",
   "metadata": {},
   "outputs": [],
   "source": []
  }
 ],
 "metadata": {
  "kernelspec": {
   "display_name": "Python 3 (ipykernel)",
   "language": "python",
   "name": "python3"
  },
  "language_info": {
   "codemirror_mode": {
    "name": "ipython",
    "version": 3
   },
   "file_extension": ".py",
   "mimetype": "text/x-python",
   "name": "python",
   "nbconvert_exporter": "python",
   "pygments_lexer": "ipython3",
   "version": "3.8.10"
  }
 },
 "nbformat": 4,
 "nbformat_minor": 5
}
