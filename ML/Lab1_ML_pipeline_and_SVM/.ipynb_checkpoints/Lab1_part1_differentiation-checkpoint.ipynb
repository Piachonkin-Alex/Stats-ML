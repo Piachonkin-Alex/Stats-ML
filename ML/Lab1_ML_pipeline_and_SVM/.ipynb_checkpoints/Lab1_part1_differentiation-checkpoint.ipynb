{
 "cells": [
  {
   "cell_type": "markdown",
   "metadata": {},
   "source": [
    "*Credits: materials from this notebook belong to YSDA [Practical DL](https://github.com/yandexdataschool/Practical_DL) course. Special thanks for making them available online.*"
   ]
  },
  {
   "cell_type": "markdown",
   "metadata": {},
   "source": [
    "# Lab assignment №1, part 1\n",
    "\n",
    "This lab assignment consists of several parts. You are supposed to make some transformations, train some models, estimate the quality of the models and explain your results.\n",
    "\n",
    "Several comments:\n",
    "* Don't hesitate to ask questions, it's a good practice.\n",
    "* No private/public sharing, please. The copied assignments will be graded with 0 points.\n",
    "* Blocks of this lab will be graded separately."
   ]
  },
  {
   "cell_type": "markdown",
   "metadata": {},
   "source": [
    "## Part 1. Matrix differentiation"
   ]
  },
  {
   "cell_type": "markdown",
   "metadata": {},
   "source": [
    "Since it easy to google every task please please please try to undestand what's going on. The \"just answer\" thing will be not counted, make sure to present derivation of your solution. It is absolutely OK if you found an answer on web then just exercise in $\\LaTeX$ copying it into here."
   ]
  },
  {
   "cell_type": "code",
   "execution_count": 1,
   "metadata": {},
   "outputs": [],
   "source": [
    "# If on colab, uncomment the following lines\n",
    "\n",
    "# ! wget https://raw.githubusercontent.com/girafe-ai/ml-mipt/basic_f20/homeworks_basic/Lab1_ML_pipeline_and_SVM/grad.png"
   ]
  },
  {
   "cell_type": "markdown",
   "metadata": {},
   "source": [
    "Useful links: \n",
    "[1](http://www.machinelearning.ru/wiki/images/2/2a/Matrix-Gauss.pdf)\n",
    "[2](http://www.atmos.washington.edu/~dennis/MatrixCalculus.pdf)\n",
    "[3](http://cal.cs.illinois.edu/~johannes/research/matrix%20calculus.pdf)\n",
    "[4](http://research.microsoft.com/en-us/um/people/cmbishop/prml/index.htm)"
   ]
  },
  {
   "cell_type": "markdown",
   "metadata": {},
   "source": [
    "To calculate all derivatives we use techniques described in http://www.machinelearning.ru/wiki/images/5/50/MOMO17_Seminar2.pdf  "
   ]
  },
  {
   "cell_type": "markdown",
   "metadata": {},
   "source": [
    "## ex. 1"
   ]
  },
  {
   "cell_type": "markdown",
   "metadata": {},
   "source": [
    "$$  \n",
    "y = x^Tx,  \\quad x \\in \\mathbb{R}^N \n",
    "$$"
   ]
  },
  {
   "cell_type": "markdown",
   "metadata": {},
   "source": [
    "$$\n",
    "y = \\sum_{i = 1}^{n} x_i^2\n",
    "$$\n",
    "Thus\n",
    "$$\n",
    "\\frac{dy}{dx_i} = 2x_i\n",
    "$$\n",
    "Thus \n",
    "$$\n",
    "\\frac{dy}{dx} = 2x\n",
    "$$"
   ]
  },
  {
   "cell_type": "markdown",
   "metadata": {},
   "source": [
    "**Second solution:**"
   ]
  },
  {
   "cell_type": "markdown",
   "metadata": {},
   "source": [
    "$$\n",
    "dy = d(x^Tx) = d(\\langle x, x \\rangle) = \\langle x, dx\\rangle + \\langle dx, x\\rangle = 2 \\langle x, dx\\rangle\n",
    "$$\n",
    "Thus \n",
    "$$\n",
    "\\frac{dy}{dx} = 2x\n",
    "$$"
   ]
  },
  {
   "cell_type": "markdown",
   "metadata": {},
   "source": [
    "## ex. 2"
   ]
  },
  {
   "cell_type": "markdown",
   "metadata": {},
   "source": [
    "$$ y = tr(AB) \\quad A,B \\in \\mathbb{R}^{N \\times N} $$ "
   ]
  },
  {
   "cell_type": "markdown",
   "metadata": {},
   "source": [
    "$$\n",
    "y = tr(AB) = \\sum_{k=1}^{n}\\sum_{m=1}^{n}a_{km}b_{mk}\n",
    "$$\n",
    "Thus \n",
    "$$\n",
    "\\frac{dy}{da_{km}} = b_{mk}  \\,\\,\\,\\, m,k \\in \\{1,..,n\\}\n",
    "$$\n",
    "Thus\n",
    "$$\n",
    "\\frac{dy}{dA} = B^T\n",
    "$$"
   ]
  },
  {
   "cell_type": "markdown",
   "metadata": {},
   "source": [
    "**Second solution:**\n",
    "Recall that $\\langle A, B\\rangle = tr(A^TB)$.\n",
    "$$\n",
    "dy_A = d_A(tr(AB)) = d_A(tr(BA)) = d_A(\\langle B^T, A\\rangle) =  \\langle B^T, dA\\rangle \n",
    "$$\n",
    "Thus\n",
    "$$\n",
    "\\frac{dy}{dA} = B^T\n",
    "$$"
   ]
  },
  {
   "cell_type": "markdown",
   "metadata": {},
   "source": [
    "## ex. 3"
   ]
  },
  {
   "cell_type": "markdown",
   "metadata": {},
   "source": [
    "$$  \n",
    "y = x^TAc , \\quad A\\in \\mathbb{R}^{N \\times N}, x\\in \\mathbb{R}^{N}, c\\in \\mathbb{R}^{N} \n",
    "$$"
   ]
  },
  {
   "cell_type": "markdown",
   "metadata": {},
   "source": [
    "$$\n",
    "\\frac{dy}{dx} = Ac\n",
    "$$"
   ]
  },
  {
   "cell_type": "markdown",
   "metadata": {},
   "source": [
    "$$\n",
    "\\frac{dy}{dA} = xc^T\n",
    "$$ "
   ]
  },
  {
   "cell_type": "markdown",
   "metadata": {},
   "source": [
    "Hint for the latter (one of the ways): use *ex. 2* result and the fact \n",
    "$$\n",
    "tr(ABC) = tr (CAB)\n",
    "$$"
   ]
  },
  {
   "cell_type": "markdown",
   "metadata": {},
   "source": [
    "Let z = Ac. Then\n",
    "$$\n",
    "y = x^Tz = \\sum_{i = 1}^n {x_iz_i}\n",
    "$$\n",
    "Thus\n",
    "$$\n",
    "\\frac{dy}{dx_i} = z_i\n",
    "$$\n",
    "Thus\n",
    "$$\n",
    "\\frac{dy}{dx} = z = Ac\n",
    "$$"
   ]
  },
  {
   "cell_type": "markdown",
   "metadata": {},
   "source": [
    "$$\n",
    "y = x^Tz = \\sum_{i = 1}^n {x_iz_i} = \\sum_{i = 1}^n (x_i \\cdot \\sum_{k = 1}^n c_ka_{ik}) = \\sum_{i = 1}^n\\sum_{k = 1}^n a_{ik} \\cdot x_ic_k\n",
    "$$\n",
    "Thus\n",
    "$$\n",
    "\\frac{dy}{da_{ik}} = x_ic_k\n",
    "$$\n",
    "Thus\n",
    "$$\n",
    "\\frac{dy}{dA} = xc^T\n",
    "$$"
   ]
  },
  {
   "cell_type": "markdown",
   "metadata": {
    "collapsed": true
   },
   "source": [
    "**Second solution**:\n",
    "$$\n",
    "d_{x}(y) = d_x(\\langle x, Ac\\rangle) = \\langle Ac, dx \\rangle\n",
    "$$\n",
    "Thus \n",
    "$$\n",
    "\\frac{dy}{dx} =  Ac\n",
    "$$\n",
    "$$\n",
    "d_A(y)  = d_A(\\langle x, Ac\\rangle) = d_A(\\langle xc^T, A\\rangle) = \\langle xc^T, dA\\rangle\n",
    "$$\n",
    "Thus\n",
    "$$\n",
    "\\frac{dy}{dA} =  xc^T\n",
    "$$"
   ]
  },
  {
   "cell_type": "markdown",
   "metadata": {},
   "source": [
    "## ex. 4"
   ]
  },
  {
   "cell_type": "markdown",
   "metadata": {},
   "source": [
    "Classic matrix factorization example. Given matrix $X$ you need to find $A$, $S$ to approximate $X$. This can be done by simple gradient descent iteratively alternating $A$ and $S$ updates.\n",
    "$$\n",
    "J = || X - AS ||_F^2  , \\quad A\\in \\mathbb{R}^{N \\times R} , \\quad S\\in \\mathbb{R}^{R \\times M}\n",
    "$$\n",
    "$$\n",
    "\\frac{dJ}{dS} = 2 \\cdot A^T(X - AS) \n",
    "$$\n",
    "\n",
    "You may use one of the following approaches:"
   ]
  },
  {
   "cell_type": "markdown",
   "metadata": {},
   "source": [
    "#### First approach\n",
    "Using ex.2 and the fact:\n",
    "$$\n",
    "|| X ||_F^2 = tr(XX^T) \n",
    "$$ \n",
    "it is easy to derive gradients (you can find it in one of the refs). "
   ]
  },
  {
   "cell_type": "markdown",
   "metadata": {},
   "source": [
    "$$\n",
    "J = tr((X-AS)(X-AS)^T) = tr(XX^T) - tr(XS^TA^T) - tr(ASX^T) + tr(ASS^TA^T)\n",
    "$$\n",
    "$$\n",
    "d_S(J) = d_S(tr(XX^T) - tr(XS^TA^T) - tr(ASX^T) + tr(ASS^TA^T))\n",
    "$$\n",
    "Evidently, that \n",
    "$$\n",
    "\\frac{d(tr(XX^T))}{dS} = 0 \\,\\,\\,\\,\\,and \\,\\,\\,\\,\\, \\frac{d(tr(XS^TA^T))}{dS}  =  \\frac{d(tr(ASX^T))}{dS} \n",
    "$$\n",
    "since $$tr(A) = tr(A^T)$$ and $$(XS^TA^T)^T = ASX^T$$."
   ]
  },
  {
   "cell_type": "markdown",
   "metadata": {},
   "source": [
    "$$\n",
    "tr(ASX^T) = tr(SX^TA)\n",
    "$$\n",
    "Let $X^TA = Z$. From ex. 2 we know that\n",
    "$$\n",
    "\\frac{d(tr(SZ))}{dS} = Z^T\n",
    "$$\n",
    "So \n",
    "$$\n",
    "\\frac{d(tr(XS^TA^T))}{dS}  =  \\frac{d(tr(ASX^T))}{dS} = A^TX\n",
    "$$"
   ]
  },
  {
   "cell_type": "markdown",
   "metadata": {},
   "source": [
    "Let $Y = AS, Y = (y_{ij})$.Then\n",
    "$$\n",
    "tr(ASS^TA^T) = tr(YY^T) = \\sum_{i = 1}^N\\sum_{j = 1}^M y^2_{ij}\n",
    "$$\n",
    "Let calculate $y_{ij}$:\n",
    "$$\n",
    "y_{ij} = (AS)_{ij} = \\sum_{k = 1}^R {a_{ik}s_{ij}}\n",
    "$$\n",
    "Thus\n",
    "$$\n",
    "tr(ASS^TA^T) = \\sum_{i = 1}^N\\sum_{j = 1}^M({\\sum_{k = 1}^R {a_{ik}s_{ij}}})^2\n",
    "$$\n",
    "Thus\n",
    "$$\n",
    "\\frac{tr(ASS^TA^T)}{ds_{mn}} = 2 \\cdot \\sum_{i = 1}^N (a_{mi} \\cdot \\sum_{k = 1}^R a_{mk}s_{kn}) \n",
    "$$\n",
    "Thus\n",
    "$$\n",
    "\\frac{tr(ASS^TA^T)}{dS} = 2A^TAS\n",
    "$$"
   ]
  },
  {
   "cell_type": "markdown",
   "metadata": {},
   "source": [
    "Finally, we have\n",
    "$$\n",
    "\\frac{dJ}{dS} = 2A^TAS - 2A^TX = 2A^T(AS - X)\n",
    "$$"
   ]
  },
  {
   "cell_type": "markdown",
   "metadata": {},
   "source": [
    "**Second solution:**\n",
    "$$\n",
    "d_S(J) = d_S(\\langle X - AS, X - AS \\rangle) = - \\langle X - AS, AdS\\rangle - \\langle AdS, X - AS\\rangle = -2 \\cdot \\langle A^T(X - AS), dS\\rangle\n",
    "$$\n",
    "Thus\n",
    "$$\n",
    "\\frac{dJ}{dS} = -2 \\cdot A^T(X - AS) = 2 \\cdot A^T (AS - X)\n",
    "$$"
   ]
  },
  {
   "cell_type": "markdown",
   "metadata": {
    "collapsed": true
   },
   "source": [
    "#### Second approach\n",
    "You can use *slightly different techniques* if they suits you. Take a look at this derivation:\n",
    "<img src=\"grad.png\">\n",
    "(excerpt from [Handbook of blind source separation, Jutten, page 517](https://books.google.ru/books?id=PTbj03bYH6kC&printsec=frontcover&dq=Handbook+of+Blind+Source+Separation&hl=en&sa=X&ved=0ahUKEwi-q_apiJDLAhULvXIKHVXJDWcQ6AEIHDAA#v=onepage&q=Handbook%20of%20Blind%20Source%20Separation&f=false), open for better picture)."
   ]
  },
  {
   "cell_type": "markdown",
   "metadata": {
    "collapsed": true
   },
   "source": [
    "#### Third approach\n",
    "And finally we can use chain rule! \n",
    "let $ F = AS $ \n",
    "\n",
    "**Find**\n",
    "$$\n",
    "\\frac{dJ}{dF} = \n",
    "$$ \n",
    "and \n",
    "$$\n",
    "\\frac{dF}{dS} = \n",
    "$$ \n",
    "(the shape should be $ NM \\times RM )$.\n",
    "\n",
    "Now it is easy do get desired gradients:\n",
    "$$\n",
    "\\frac{dJ}{dS} =\n",
    "$$ "
   ]
  }
 ],
 "metadata": {
  "kernelspec": {
   "display_name": "Python 3",
   "language": "python",
   "name": "python3"
  },
  "language_info": {
   "codemirror_mode": {
    "name": "ipython",
    "version": 3
   },
   "file_extension": ".py",
   "mimetype": "text/x-python",
   "name": "python",
   "nbconvert_exporter": "python",
   "pygments_lexer": "ipython3",
   "version": "3.8.10"
  }
 },
 "nbformat": 4,
 "nbformat_minor": 1
}
