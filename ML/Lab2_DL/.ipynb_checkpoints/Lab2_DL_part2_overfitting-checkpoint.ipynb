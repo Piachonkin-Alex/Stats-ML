{
 "cells": [
  {
   "cell_type": "markdown",
   "metadata": {
    "id": "NFmOh482SyEF"
   },
   "source": [
    "## Lab 2\n",
    "### Part 2: Dealing with overfitting"
   ]
  },
  {
   "cell_type": "markdown",
   "metadata": {
    "id": "AjzAuO3oSvsI"
   },
   "source": [
    "Today we work with [Fashion-MNIST dataset](https://github.com/zalandoresearch/fashion-mnist) (*hint: it is available in `torchvision`*).\n",
    "\n",
    "Your goal for today:\n",
    "1. Train a FC (fully-connected) network that achieves >= 0.885 test accuracy.\n",
    "2. Cause considerable overfitting by modifying the network (e.g. increasing the number of network parameters and/or layers) and demonstrate in in the appropriate way (e.g. plot loss and accurasy on train and validation set w.r.t. network complexity).\n",
    "3. Try to deal with overfitting (at least partially) by using regularization techniques (Dropout/Batchnorm/...) and demonstrate the results.\n",
    "\n",
    "__Please, write a small report describing your ideas, tries and achieved results in the end of this file.__\n",
    "\n",
    "*Note*: Tasks 2 and 3 are interrelated, in task 3 your goal is to make the network from task 2 less prone to overfitting. Task 1 is independent from 2 and 3.\n",
    "\n",
    "*Note 2*: We recomment to use Google Colab or other machine with GPU acceleration."
   ]
  },
  {
   "cell_type": "code",
   "execution_count": 57,
   "metadata": {
    "executionInfo": {
     "elapsed": 405,
     "status": "ok",
     "timestamp": 1639169787381,
     "user": {
      "displayName": "Александр Алексеевич Печёнкин",
      "photoUrl": "https://lh3.googleusercontent.com/a/default-user=s64",
      "userId": "03490257034938610559"
     },
     "user_tz": -180
    },
    "id": "_KBld6VOSwhW"
   },
   "outputs": [],
   "source": [
    "import torch\n",
    "import torch.nn as nn\n",
    "import torchvision\n",
    "import torchvision.transforms as transforms\n",
    "import torchsummary\n",
    "from IPython.display import clear_output\n",
    "from matplotlib import pyplot as plt\n",
    "from matplotlib.pyplot import figure\n",
    "import numpy as np\n",
    "import os\n",
    "\n",
    "\n",
    "device = 'cuda:0' if torch.cuda.is_available() else 'cpu'"
   ]
  },
  {
   "cell_type": "code",
   "execution_count": 58,
   "metadata": {
    "colab": {
     "base_uri": "https://localhost:8080/"
    },
    "executionInfo": {
     "elapsed": 8,
     "status": "ok",
     "timestamp": 1639169787854,
     "user": {
      "displayName": "Александр Алексеевич Печёнкин",
      "photoUrl": "https://lh3.googleusercontent.com/a/default-user=s64",
      "userId": "03490257034938610559"
     },
     "user_tz": -180
    },
    "id": "EdLOG0XqS_g5",
    "outputId": "557ba1a9-849a-4cef-a311-11d5ee822556"
   },
   "outputs": [
    {
     "name": "stdout",
     "output_type": "stream",
     "text": [
      "Directory fmnist already exists!\n"
     ]
    }
   ],
   "source": [
    "# Technical function\n",
    "def mkdir(path):\n",
    "    if not os.path.exists(root_path):\n",
    "        os.mkdir(root_path)\n",
    "        print('Directory', path, 'is created!')\n",
    "    else:\n",
    "        print('Directory', path, 'already exists!')\n",
    "        \n",
    "root_path = 'fmnist'\n",
    "mkdir(root_path)"
   ]
  },
  {
   "cell_type": "code",
   "execution_count": 59,
   "metadata": {
    "executionInfo": {
     "elapsed": 7,
     "status": "ok",
     "timestamp": 1639169787856,
     "user": {
      "displayName": "Александр Алексеевич Печёнкин",
      "photoUrl": "https://lh3.googleusercontent.com/a/default-user=s64",
      "userId": "03490257034938610559"
     },
     "user_tz": -180
    },
    "id": "qt6LE7XaTDT9"
   },
   "outputs": [],
   "source": [
    "download = True\n",
    "train_transform = transforms.ToTensor()\n",
    "test_transform = transforms.ToTensor()\n",
    "transforms.Compose((transforms.ToTensor()))\n",
    "\n",
    "\n",
    "fmnist_dataset_train = torchvision.datasets.FashionMNIST(root_path, \n",
    "                                                        train=True, \n",
    "                                                        transform=train_transform,\n",
    "                                                        target_transform=None,\n",
    "                                                        download=download)\n",
    "\n",
    "fmnist_dataset_train, fmnist_dataset_val = torch.utils.data.dataset.random_split(\n",
    "    fmnist_dataset_train, [int(0.9 * len(fmnist_dataset_train)),int(0.1* len(fmnist_dataset_train))])\n",
    "\n",
    "fmnist_dataset_test = torchvision.datasets.FashionMNIST(root_path, \n",
    "                                                       train=False, \n",
    "                                                       transform=test_transform,\n",
    "                                                       target_transform=None,\n",
    "                                                       download=download)\n"
   ]
  },
  {
   "cell_type": "code",
   "execution_count": 60,
   "metadata": {
    "executionInfo": {
     "elapsed": 7,
     "status": "ok",
     "timestamp": 1639169787857,
     "user": {
      "displayName": "Александр Алексеевич Печёнкин",
      "photoUrl": "https://lh3.googleusercontent.com/a/default-user=s64",
      "userId": "03490257034938610559"
     },
     "user_tz": -180
    },
    "id": "71YP0SPwTIxD"
   },
   "outputs": [],
   "source": [
    "train_loader = torch.utils.data.DataLoader(fmnist_dataset_train, \n",
    "                                           batch_size=128,\n",
    "                                           shuffle=True,\n",
    "                                           num_workers=2)\n",
    "test_loader = torch.utils.data.DataLoader(fmnist_dataset_test,\n",
    "                                          batch_size=256,\n",
    "                                          shuffle=False,\n",
    "                                          num_workers=2)\n",
    "val_loader = torch.utils.data.DataLoader(fmnist_dataset_val,\n",
    "                                          batch_size=128,\n",
    "                                          shuffle=False,\n",
    "                                          num_workers=2)"
   ]
  },
  {
   "cell_type": "code",
   "execution_count": 61,
   "metadata": {
    "colab": {
     "base_uri": "https://localhost:8080/"
    },
    "executionInfo": {
     "elapsed": 6,
     "status": "ok",
     "timestamp": 1639169788200,
     "user": {
      "displayName": "Александр Алексеевич Печёнкин",
      "photoUrl": "https://lh3.googleusercontent.com/a/default-user=s64",
      "userId": "03490257034938610559"
     },
     "user_tz": -180
    },
    "id": "v_YFmF7NTWrQ",
    "outputId": "f5d59c4a-4961-4f66-ba8f-559dd5e14dc4"
   },
   "outputs": [
    {
     "data": {
      "text/plain": [
       "10000"
      ]
     },
     "execution_count": 61,
     "metadata": {},
     "output_type": "execute_result"
    }
   ],
   "source": [
    "len(fmnist_dataset_test)"
   ]
  },
  {
   "cell_type": "code",
   "execution_count": 62,
   "metadata": {
    "colab": {
     "base_uri": "https://localhost:8080/"
    },
    "executionInfo": {
     "elapsed": 733,
     "status": "ok",
     "timestamp": 1639169788930,
     "user": {
      "displayName": "Александр Алексеевич Печёнкин",
      "photoUrl": "https://lh3.googleusercontent.com/a/default-user=s64",
      "userId": "03490257034938610559"
     },
     "user_tz": -180
    },
    "id": "aHca15bOTY4B",
    "outputId": "1d4203d4-27b6-4e51-886b-ab8abf5e6841"
   },
   "outputs": [
    {
     "name": "stdout",
     "output_type": "stream",
     "text": [
      "torch.Size([128, 1, 28, 28])\n",
      "torch.Size([128])\n",
      "128\n"
     ]
    }
   ],
   "source": [
    "for img, label in train_loader:\n",
    "    print(img.shape)\n",
    "#     print(img)\n",
    "    print(label.shape)\n",
    "    print(label.size(0))\n",
    "    break"
   ]
  },
  {
   "cell_type": "markdown",
   "metadata": {
    "id": "b6OOOffHTfX5"
   },
   "source": [
    "### Task 1\n",
    "Train a network that achieves $\\geq 0.885$ test accuracy. It's fine to use only Linear (`nn.Linear`) layers and activations/dropout/batchnorm. Convolutional layers might be a great use, but we will meet them a bit later."
   ]
  },
  {
   "cell_type": "code",
   "execution_count": 63,
   "metadata": {
    "executionInfo": {
     "elapsed": 7,
     "status": "ok",
     "timestamp": 1639169788931,
     "user": {
      "displayName": "Александр Алексеевич Печёнкин",
      "photoUrl": "https://lh3.googleusercontent.com/a/default-user=s64",
      "userId": "03490257034938610559"
     },
     "user_tz": -180
    },
    "id": "ftpkTjxlTcFx"
   },
   "outputs": [],
   "source": [
    "class TinyNeuralNetwork(nn.Module):\n",
    "    def __init__(self, input_shape=28*28, num_classes=10, input_channels=1):\n",
    "        super(self.__class__, self).__init__()\n",
    "        self.model = nn.Sequential(\n",
    "            nn.Flatten(), # This layer converts image into a vector to use Linear layers afterwards\n",
    "            # Your network structure comes here\n",
    "            nn.Linear(input_shape, 400),\n",
    "            nn.ELU(),\n",
    "            nn.BatchNorm1d(400, 0.4),\n",
    "            nn.Linear(400, 200),\n",
    "            nn.ELU(),\n",
    "            nn.BatchNorm1d(200, 0.4),\n",
    "            nn.Linear(200, 100),\n",
    "            nn.ELU(),\n",
    "            nn.BatchNorm1d(100, 0.4),\n",
    "            nn.Linear(100, num_classes)\n",
    "        )\n",
    "        \n",
    "    def forward(self, inp):       \n",
    "        out = self.model(inp)\n",
    "        return out"
   ]
  },
  {
   "cell_type": "code",
   "execution_count": 64,
   "metadata": {
    "colab": {
     "base_uri": "https://localhost:8080/"
    },
    "executionInfo": {
     "elapsed": 5,
     "status": "ok",
     "timestamp": 1639169789428,
     "user": {
      "displayName": "Александр Алексеевич Печёнкин",
      "photoUrl": "https://lh3.googleusercontent.com/a/default-user=s64",
      "userId": "03490257034938610559"
     },
     "user_tz": -180
    },
    "id": "wWOBpqqIzSO7",
    "outputId": "051393bc-b583-4020-fc50-9809d2853166"
   },
   "outputs": [
    {
     "name": "stdout",
     "output_type": "stream",
     "text": [
      "----------------------------------------------------------------\n",
      "        Layer (type)               Output Shape         Param #\n",
      "================================================================\n",
      "           Flatten-1                  [-1, 784]               0\n",
      "            Linear-2                  [-1, 400]         314,000\n",
      "               ELU-3                  [-1, 400]               0\n",
      "       BatchNorm1d-4                  [-1, 400]             800\n",
      "            Linear-5                  [-1, 200]          80,200\n",
      "               ELU-6                  [-1, 200]               0\n",
      "       BatchNorm1d-7                  [-1, 200]             400\n",
      "            Linear-8                  [-1, 100]          20,100\n",
      "               ELU-9                  [-1, 100]               0\n",
      "      BatchNorm1d-10                  [-1, 100]             200\n",
      "           Linear-11                   [-1, 10]           1,010\n",
      "================================================================\n",
      "Total params: 416,710\n",
      "Trainable params: 416,710\n",
      "Non-trainable params: 0\n",
      "----------------------------------------------------------------\n",
      "Input size (MB): 0.00\n",
      "Forward/backward pass size (MB): 0.02\n",
      "Params size (MB): 1.59\n",
      "Estimated Total Size (MB): 1.61\n",
      "----------------------------------------------------------------\n"
     ]
    }
   ],
   "source": [
    "torchsummary.summary(TinyNeuralNetwork().to(device), (28*28,))"
   ]
  },
  {
   "cell_type": "markdown",
   "metadata": {
    "id": "544PGKEnjPr5"
   },
   "source": [
    "Your experiments come here:"
   ]
  },
  {
   "cell_type": "code",
   "execution_count": 65,
   "metadata": {
    "executionInfo": {
     "elapsed": 4,
     "status": "ok",
     "timestamp": 1639169789845,
     "user": {
      "displayName": "Александр Алексеевич Печёнкин",
      "photoUrl": "https://lh3.googleusercontent.com/a/default-user=s64",
      "userId": "03490257034938610559"
     },
     "user_tz": -180
    },
    "id": "G57SjB9bzSO8"
   },
   "outputs": [],
   "source": [
    "def make_train(model, opt, loss_func, train_loader, n_epoch, val_loader = None):\n",
    "    loss_hist, acc_hist = [], []\n",
    "    loss_hist_val = None if val_loader is None else []\n",
    "    acc_hist_val = None if val_loader is None else []\n",
    "    for i in range(n_epoch):\n",
    "        acc_i, loss_i = 0.0, 0.0\n",
    "        model.train()\n",
    "        for img, label in train_loader:\n",
    "            img, label = img.to(device), label.to(device)\n",
    "            preds = model(img)\n",
    "            loss = loss_func(preds, label)\n",
    "            loss_i += loss\n",
    "            opt.zero_grad()\n",
    "            loss.backward()\n",
    "            opt.step()\n",
    "            acc_i += torch.sum(torch.eq(input = label, other = torch.argmax(preds, dim = 1)))\n",
    "        acc_hist.append(acc_i / len(train_loader.dataset))\n",
    "        loss_hist.append(loss_i)\n",
    "        if loss_hist_val is not None:\n",
    "            model.eval()\n",
    "            acc_i, loss_i = 0.0, 0.0\n",
    "            for img, label in val_loader:\n",
    "                img, label = img.to(device), label.to(device)\n",
    "                preds = model(img)\n",
    "                loss = loss_func(preds, label)\n",
    "                loss_i += loss\n",
    "                acc_i += torch.sum(torch.eq(input = label, other = torch.argmax(preds, dim = 1)))\n",
    "            acc_hist_val.append(acc_i/  len(val_loader.dataset))\n",
    "            loss_hist_val.append(loss_i)\n",
    "        print(f\"epoch {i}\")\n",
    "    return  loss_hist, acc_hist, loss_hist_val, acc_hist_val           "
   ]
  },
  {
   "cell_type": "code",
   "execution_count": 66,
   "metadata": {
    "executionInfo": {
     "elapsed": 414,
     "status": "ok",
     "timestamp": 1639169790774,
     "user": {
      "displayName": "Александр Алексеевич Печёнкин",
      "photoUrl": "https://lh3.googleusercontent.com/a/default-user=s64",
      "userId": "03490257034938610559"
     },
     "user_tz": -180
    },
    "id": "2DNQzyAm1I9w"
   },
   "outputs": [],
   "source": [
    "def build_plot(loss_hist, acc_hist, loss_hist_val, acc_hist_val):\n",
    "    plt.figure(figsize = (10 , 10))\n",
    "    plt.xlabel(\"#epoch\")\n",
    "    plt.ylabel(\"loss\")\n",
    "    \n",
    "    plt.plot(np.arange(len(loss_hist)) + 1,loss_hist, label = \"training\")\n",
    "    if loss_hist_val is not None:\n",
    "        plt.plot(np.arange(len(loss_hist)) + 1,loss_hist_val, label = \"validation\")\n",
    "    plt.legend()\n",
    "    plt.show() \n",
    "\n",
    "\n",
    "    plt.figure(figsize = (10 , 10))\n",
    "    plt.xlabel(\"#epoch\")\n",
    "    plt.ylabel(\"accuracy\")\n",
    "    \n",
    "    plt.plot(np.arange(len(loss_hist)) + 1,acc_hist, label = \"training\")\n",
    "    if loss_hist_val is not None:\n",
    "        plt.plot(np.arange(len(loss_hist)) + 1,acc_hist_val, label = \"validation\")\n",
    "    plt.legend()\n",
    "    plt.show() \n",
    "    \n",
    "    print(f\"test accuracy -- {acc_hist[-1]}\")\n",
    "    if loss_hist_val is not None:\n",
    "        print(f\"validation accuracy -- {acc_hist_val[-1]}\")"
   ]
  },
  {
   "cell_type": "code",
   "execution_count": 67,
   "metadata": {
    "colab": {
     "base_uri": "https://localhost:8080/"
    },
    "executionInfo": {
     "elapsed": 95938,
     "status": "ok",
     "timestamp": 1639169887293,
     "user": {
      "displayName": "Александр Алексеевич Печёнкин",
      "photoUrl": "https://lh3.googleusercontent.com/a/default-user=s64",
      "userId": "03490257034938610559"
     },
     "user_tz": -180
    },
    "id": "i3POFj90Ti-6",
    "outputId": "e9b19ac2-e64f-4cce-c71a-a48e200df802"
   },
   "outputs": [
    {
     "name": "stdout",
     "output_type": "stream",
     "text": [
      "epoch 0\n",
      "epoch 1\n",
      "epoch 2\n",
      "epoch 3\n",
      "epoch 4\n",
      "epoch 5\n",
      "epoch 6\n",
      "epoch 7\n",
      "epoch 8\n",
      "epoch 9\n",
      "epoch 10\n",
      "epoch 11\n"
     ]
    }
   ],
   "source": [
    "model = TinyNeuralNetwork().to(device)\n",
    "opt = torch.optim.Adam(model.parameters(), lr=1e-3)\n",
    "loss_func = nn.CrossEntropyLoss()\n",
    "\n",
    "# Your experiments, training and validation loops here\n",
    "loss_hist, acc_hist, loss_hist_val, acc_hist_val = make_train(model, opt, loss_func, train_loader, 12)"
   ]
  },
  {
   "cell_type": "code",
   "execution_count": 68,
   "metadata": {
    "colab": {
     "base_uri": "https://localhost:8080/",
     "height": 1000
    },
    "executionInfo": {
     "elapsed": 604,
     "status": "ok",
     "timestamp": 1639169887884,
     "user": {
      "displayName": "Александр Алексеевич Печёнкин",
      "photoUrl": "https://lh3.googleusercontent.com/a/default-user=s64",
      "userId": "03490257034938610559"
     },
     "user_tz": -180
    },
    "id": "DwouYpEC2QQO",
    "outputId": "ea81a0ae-320c-4fc9-fa7c-a4c57f078932"
   },
   "outputs": [
    {
     "data": {
      "image/png": "[encoded data removed]",
      "text/plain": [
       "<Figure size 720x720 with 1 Axes>"
      ]
     },
     "metadata": {
      "needs_background": "light"
     },
     "output_type": "display_data"
    },
    {
     "data": {
      "image/png": "[encoded data removed]",
      "text/plain": [
       "<Figure size 720x720 with 1 Axes>"
      ]
     },
     "metadata": {
      "needs_background": "light"
     },
     "output_type": "display_data"
    },
    {
     "name": "stdout",
     "output_type": "stream",
     "text": [
      "test accuracy -- 0.926018476486206\n"
     ]
    }
   ],
   "source": [
    "build_plot(loss_hist, acc_hist, loss_hist_val, acc_hist_val)"
   ]
  },
  {
   "cell_type": "code",
   "execution_count": 69,
   "metadata": {
    "executionInfo": {
     "elapsed": 2,
     "status": "ok",
     "timestamp": 1639169887884,
     "user": {
      "displayName": "Александр Алексеевич Печёнкин",
      "photoUrl": "https://lh3.googleusercontent.com/a/default-user=s64",
      "userId": "03490257034938610559"
     },
     "user_tz": -180
    },
    "id": "r1zgZmAjzSO9"
   },
   "outputs": [],
   "source": [
    "def make_test(model, test_loader):\n",
    "    model.train(mode =  False)\n",
    "    res = 0.0\n",
    "    for img, label in test_loader:\n",
    "        img, label = img.to(device), label.to(device)\n",
    "        preds = model.forward(img)\n",
    "        preds = torch.argmax(preds, dim = 1)\n",
    "        torch.eq(input = label, other = preds, out = preds)\n",
    "        res += torch.sum(preds)\n",
    "    print(res / len(test_loader.dataset))"
   ]
  },
  {
   "cell_type": "code",
   "execution_count": 70,
   "metadata": {
    "colab": {
     "base_uri": "https://localhost:8080/"
    },
    "executionInfo": {
     "elapsed": 900,
     "status": "ok",
     "timestamp": 1639169888782,
     "user": {
      "displayName": "Александр Алексеевич Печёнкин",
      "photoUrl": "https://lh3.googleusercontent.com/a/default-user=s64",
      "userId": "03490257034938610559"
     },
     "user_tz": -180
    },
    "id": "trW39g7zzSO9",
    "outputId": "c0fd4404-e4dc-40a4-d269-fce1af7abd88"
   },
   "outputs": [
    {
     "name": "stdout",
     "output_type": "stream",
     "text": [
      "tensor(0.8861, device='cuda:0')\n"
     ]
    }
   ],
   "source": [
    "make_test(model, test_loader)"
   ]
  },
  {
   "cell_type": "markdown",
   "metadata": {
    "id": "RbAWep7KIivw"
   },
   "source": [
    "**Conclusion:** We've done it!!!"
   ]
  },
  {
   "cell_type": "markdown",
   "metadata": {
    "id": "L7ISqkjmCPB1"
   },
   "source": [
    "### Task 2: Overfit it.\n",
    "Build a network that will overfit to this dataset. Demonstrate the overfitting in the appropriate way (e.g. plot loss and accurasy on train and test set w.r.t. network complexity).\n",
    "\n",
    "*Note:* you also might decrease the size of `train` dataset to enforce the overfitting and speed up the computations."
   ]
  },
  {
   "cell_type": "code",
   "execution_count": 12,
   "metadata": {
    "executionInfo": {
     "elapsed": 1050,
     "status": "ok",
     "timestamp": 1639168888094,
     "user": {
      "displayName": "Александр Алексеевич Печёнкин",
      "photoUrl": "https://lh3.googleusercontent.com/a/default-user=s64",
      "userId": "03490257034938610559"
     },
     "user_tz": -180
    },
    "id": "tJwnZtP-zSO-"
   },
   "outputs": [],
   "source": [
    "fmnist_dataset_train_extract, fmnist_dataset_val_extract, fake = torch.utils.data.dataset.random_split(\n",
    "    fmnist_dataset_train, [1000, 1000,  len(fmnist_dataset_train) - 2000])\n",
    "\n",
    "train_loader_extract = torch.utils.data.DataLoader(fmnist_dataset_train_extract, \n",
    "                                           batch_size=128,\n",
    "                                           shuffle=True,\n",
    "                                           num_workers=2)\n",
    "val_loader_extract = torch.utils.data.DataLoader(fmnist_dataset_val_extract, \n",
    "                                           batch_size=128,\n",
    "                                           shuffle=True,\n",
    "                                           num_workers=2)\n"
   ]
  },
  {
   "cell_type": "code",
   "execution_count": 71,
   "metadata": {
    "executionInfo": {
     "elapsed": 406,
     "status": "ok",
     "timestamp": 1639169906903,
     "user": {
      "displayName": "Александр Алексеевич Печёнкин",
      "photoUrl": "https://lh3.googleusercontent.com/a/default-user=s64",
      "userId": "03490257034938610559"
     },
     "user_tz": -180
    },
    "id": "H12uAWiGBwJx"
   },
   "outputs": [],
   "source": [
    "class OverfittingNeuralNetwork(nn.Module):\n",
    "    def __init__(self, input_shape=28*28, num_classes=10, input_channels=1):\n",
    "        super(self.__class__, self).__init__()\n",
    "        self.model = nn.Sequential(\n",
    "            nn.Flatten(), # This layer converts image into a vector to use Linear layers afterwards\n",
    "            nn.Linear(input_shape, int(1e3)),\n",
    "            nn.ReLU(),\n",
    "            nn.Linear(int(1e3), num_classes),\n",
    "            nn.Softplus(),\n",
    "            nn.Linear(num_classes,int(1e3)),\n",
    "            nn.ReLU(),\n",
    "            nn.Linear(int(1e3), num_classes)\n",
    "        )\n",
    "        \n",
    "    def forward(self, inp):       \n",
    "        out = self.model(inp)\n",
    "        return out"
   ]
  },
  {
   "cell_type": "code",
   "execution_count": 72,
   "metadata": {
    "colab": {
     "base_uri": "https://localhost:8080/"
    },
    "executionInfo": {
     "elapsed": 7,
     "status": "ok",
     "timestamp": 1639169907423,
     "user": {
      "displayName": "Александр Алексеевич Печёнкин",
      "photoUrl": "https://lh3.googleusercontent.com/a/default-user=s64",
      "userId": "03490257034938610559"
     },
     "user_tz": -180
    },
    "id": "JgXAKCpvCwqH",
    "outputId": "5c256f7f-d1d7-477c-d358-7b7b481bcb25"
   },
   "outputs": [
    {
     "name": "stdout",
     "output_type": "stream",
     "text": [
      "----------------------------------------------------------------\n",
      "        Layer (type)               Output Shape         Param #\n",
      "================================================================\n",
      "           Flatten-1                  [-1, 784]               0\n",
      "            Linear-2                 [-1, 1000]         785,000\n",
      "              ReLU-3                 [-1, 1000]               0\n",
      "            Linear-4                   [-1, 10]          10,010\n",
      "          Softplus-5                   [-1, 10]               0\n",
      "            Linear-6                 [-1, 1000]          11,000\n",
      "              ReLU-7                 [-1, 1000]               0\n",
      "            Linear-8                   [-1, 10]          10,010\n",
      "================================================================\n",
      "Total params: 816,020\n",
      "Trainable params: 816,020\n",
      "Non-trainable params: 0\n",
      "----------------------------------------------------------------\n",
      "Input size (MB): 0.00\n",
      "Forward/backward pass size (MB): 0.04\n",
      "Params size (MB): 3.11\n",
      "Estimated Total Size (MB): 3.15\n",
      "----------------------------------------------------------------\n"
     ]
    }
   ],
   "source": [
    "torchsummary.summary(OverfittingNeuralNetwork().to(device), (28*28,))"
   ]
  },
  {
   "cell_type": "code",
   "execution_count": 73,
   "metadata": {
    "colab": {
     "base_uri": "https://localhost:8080/"
    },
    "executionInfo": {
     "elapsed": 65069,
     "status": "ok",
     "timestamp": 1639169972952,
     "user": {
      "displayName": "Александр Алексеевич Печёнкин",
      "photoUrl": "https://lh3.googleusercontent.com/a/default-user=s64",
      "userId": "03490257034938610559"
     },
     "user_tz": -180
    },
    "id": "bkEyU6zSzSO-",
    "outputId": "88cef909-752f-43ef-fade-96ea5ee888f1"
   },
   "outputs": [
    {
     "name": "stdout",
     "output_type": "stream",
     "text": [
      "epoch 0\n",
      "epoch 1\n",
      "epoch 2\n",
      "epoch 3\n",
      "epoch 4\n",
      "epoch 5\n",
      "epoch 6\n",
      "epoch 7\n",
      "epoch 8\n",
      "epoch 9\n",
      "epoch 10\n",
      "epoch 11\n",
      "epoch 12\n",
      "epoch 13\n",
      "epoch 14\n",
      "epoch 15\n",
      "epoch 16\n",
      "epoch 17\n",
      "epoch 18\n",
      "epoch 19\n",
      "epoch 20\n",
      "epoch 21\n",
      "epoch 22\n",
      "epoch 23\n",
      "epoch 24\n",
      "epoch 25\n",
      "epoch 26\n",
      "epoch 27\n",
      "epoch 28\n",
      "epoch 29\n",
      "epoch 30\n",
      "epoch 31\n",
      "epoch 32\n",
      "epoch 33\n",
      "epoch 34\n",
      "epoch 35\n",
      "epoch 36\n",
      "epoch 37\n",
      "epoch 38\n",
      "epoch 39\n",
      "epoch 40\n",
      "epoch 41\n",
      "epoch 42\n",
      "epoch 43\n",
      "epoch 44\n",
      "epoch 45\n",
      "epoch 46\n",
      "epoch 47\n",
      "epoch 48\n",
      "epoch 49\n",
      "epoch 50\n",
      "epoch 51\n",
      "epoch 52\n",
      "epoch 53\n",
      "epoch 54\n",
      "epoch 55\n",
      "epoch 56\n",
      "epoch 57\n",
      "epoch 58\n",
      "epoch 59\n",
      "epoch 60\n",
      "epoch 61\n",
      "epoch 62\n",
      "epoch 63\n",
      "epoch 64\n",
      "epoch 65\n",
      "epoch 66\n",
      "epoch 67\n",
      "epoch 68\n",
      "epoch 69\n",
      "epoch 70\n",
      "epoch 71\n",
      "epoch 72\n",
      "epoch 73\n",
      "epoch 74\n",
      "epoch 75\n",
      "epoch 76\n",
      "epoch 77\n",
      "epoch 78\n",
      "epoch 79\n",
      "epoch 80\n",
      "epoch 81\n",
      "epoch 82\n",
      "epoch 83\n",
      "epoch 84\n",
      "epoch 85\n",
      "epoch 86\n",
      "epoch 87\n",
      "epoch 88\n",
      "epoch 89\n",
      "epoch 90\n",
      "epoch 91\n",
      "epoch 92\n",
      "epoch 93\n",
      "epoch 94\n",
      "epoch 95\n",
      "epoch 96\n",
      "epoch 97\n",
      "epoch 98\n",
      "epoch 99\n"
     ]
    }
   ],
   "source": [
    "model = OverfittingNeuralNetwork().to(device)\n",
    "opt = torch.optim.Adam(model.parameters(), lr=1e-3)\n",
    "loss_func = nn.CrossEntropyLoss()\n",
    "\n",
    "# Your experiments, come here\n",
    "loss_hist, acc_hist, loss_hist_val, acc_hist_val = make_train(model, opt, loss_func, train_loader_extract, 100, val_loader_extract)"
   ]
  },
  {
   "cell_type": "code",
   "execution_count": 74,
   "metadata": {
    "colab": {
     "base_uri": "https://localhost:8080/",
     "height": 1000
    },
    "executionInfo": {
     "elapsed": 996,
     "status": "ok",
     "timestamp": 1639169973914,
     "user": {
      "displayName": "Александр Алексеевич Печёнкин",
      "photoUrl": "https://lh3.googleusercontent.com/a/default-user=s64",
      "userId": "03490257034938610559"
     },
     "user_tz": -180
    },
    "id": "djwusYVr2r80",
    "outputId": "4c90b11f-5ece-438d-972a-529ab85dccce"
   },
   "outputs": [
    {
     "data": {
      "image/png": "[encoded data removed]",
      "text/plain": [
       "<Figure size 720x720 with 1 Axes>"
      ]
     },
     "metadata": {
      "needs_background": "light"
     },
     "output_type": "display_data"
    },
    {
     "data": {
      "image/png": "[encoded data removed]",
      "text/plain": [
       "<Figure size 720x720 with 1 Axes>"
      ]
     },
     "metadata": {
      "needs_background": "light"
     },
     "output_type": "display_data"
    },
    {
     "name": "stdout",
     "output_type": "stream",
     "text": [
      "test accuracy -- 1.0\n",
      "validation accuracy -- 0.8020000457763672\n"
     ]
    }
   ],
   "source": [
    "build_plot(loss_hist, acc_hist, loss_hist_val, acc_hist_val)"
   ]
  },
  {
   "cell_type": "markdown",
   "metadata": {
    "id": "BISrYP5dIwbD"
   },
   "source": [
    "**Conclusion:** Loss it increasing!"
   ]
  },
  {
   "cell_type": "code",
   "execution_count": 75,
   "metadata": {
    "colab": {
     "base_uri": "https://localhost:8080/"
    },
    "executionInfo": {
     "elapsed": 1119,
     "status": "ok",
     "timestamp": 1639169975025,
     "user": {
      "displayName": "Александр Алексеевич Печёнкин",
      "photoUrl": "https://lh3.googleusercontent.com/a/default-user=s64",
      "userId": "03490257034938610559"
     },
     "user_tz": -180
    },
    "id": "sUIZSYL4zSO_",
    "outputId": "dfeb566e-1f8a-4e58-f987-8c58fa57e1a4"
   },
   "outputs": [
    {
     "name": "stdout",
     "output_type": "stream",
     "text": [
      "tensor(0.7940, device='cuda:0')\n"
     ]
    }
   ],
   "source": [
    "make_test(model, test_loader)"
   ]
  },
  {
   "cell_type": "markdown",
   "metadata": {
    "id": "vJEKeDU9zSO_"
   },
   "source": [
    "### Task 3: Fix it.\n",
    "Fix the overfitted network from the previous step (at least partially) by using regularization techniques (Dropout/Batchnorm/...) and demonstrate the results. "
   ]
  },
  {
   "cell_type": "code",
   "execution_count": 76,
   "metadata": {
    "executionInfo": {
     "elapsed": 507,
     "status": "ok",
     "timestamp": 1639169987937,
     "user": {
      "displayName": "Александр Алексеевич Печёнкин",
      "photoUrl": "https://lh3.googleusercontent.com/a/default-user=s64",
      "userId": "03490257034938610559"
     },
     "user_tz": -180
    },
    "id": "ZZnevr-uzSO_"
   },
   "outputs": [],
   "source": [
    "class FixedNeuralNetwork(nn.Module):\n",
    "    def __init__(self, input_shape=28*28, num_classes=10, input_channels=1):\n",
    "        super(self.__class__, self).__init__()\n",
    "        self.model = nn.Sequential(\n",
    "            nn.Flatten(), # This layer converts image into a vector to use Linear layers afterwards\n",
    "            nn.Linear(input_shape, int(1e3)),\n",
    "            nn.BatchNorm1d(int(1e3),momentum = 0.4),\n",
    "            nn.Dropout(p = 0.5),\n",
    "            nn.ReLU(),\n",
    "            nn.BatchNorm1d(int(1e3),momentum = 0.4),\n",
    "            nn.Linear(int(1e3), num_classes),\n",
    "            nn.BatchNorm1d(num_classes,momentum = 0.4),\n",
    "            nn.Softplus(),\n",
    "             nn.BatchNorm1d(num_classes,momentum = 0.4),\n",
    "            nn.Linear(num_classes,int(1e3)),\n",
    "            nn.BatchNorm1d(int(1e3),momentum = 0.4),\n",
    "            nn.Dropout(p = 0.5),\n",
    "            nn.ReLU(),\n",
    "            nn.BatchNorm1d(int(1e3),momentum = 0.4),\n",
    "            nn.Dropout(p = 0.6),\n",
    "            nn.Linear(int(1e3), num_classes),\n",
    "        )\n",
    "        \n",
    "    def forward(self, inp):       \n",
    "        out = self.model(inp)\n",
    "        return out"
   ]
  },
  {
   "cell_type": "code",
   "execution_count": 77,
   "metadata": {
    "colab": {
     "base_uri": "https://localhost:8080/"
    },
    "executionInfo": {
     "elapsed": 11,
     "status": "ok",
     "timestamp": 1639169988833,
     "user": {
      "displayName": "Александр Алексеевич Печёнкин",
      "photoUrl": "https://lh3.googleusercontent.com/a/default-user=s64",
      "userId": "03490257034938610559"
     },
     "user_tz": -180
    },
    "id": "2wHNLcJZzSO_",
    "outputId": "4567e48e-38c3-4642-fb26-94abeef6e4fa"
   },
   "outputs": [
    {
     "name": "stdout",
     "output_type": "stream",
     "text": [
      "----------------------------------------------------------------\n",
      "        Layer (type)               Output Shape         Param #\n",
      "================================================================\n",
      "           Flatten-1                  [-1, 784]               0\n",
      "            Linear-2                 [-1, 1000]         785,000\n",
      "       BatchNorm1d-3                 [-1, 1000]           2,000\n",
      "           Dropout-4                 [-1, 1000]               0\n",
      "              ReLU-5                 [-1, 1000]               0\n",
      "       BatchNorm1d-6                 [-1, 1000]           2,000\n",
      "            Linear-7                   [-1, 10]          10,010\n",
      "       BatchNorm1d-8                   [-1, 10]              20\n",
      "          Softplus-9                   [-1, 10]               0\n",
      "      BatchNorm1d-10                   [-1, 10]              20\n",
      "           Linear-11                 [-1, 1000]          11,000\n",
      "      BatchNorm1d-12                 [-1, 1000]           2,000\n",
      "          Dropout-13                 [-1, 1000]               0\n",
      "             ReLU-14                 [-1, 1000]               0\n",
      "      BatchNorm1d-15                 [-1, 1000]           2,000\n",
      "          Dropout-16                 [-1, 1000]               0\n",
      "           Linear-17                   [-1, 10]          10,010\n",
      "================================================================\n",
      "Total params: 824,060\n",
      "Trainable params: 824,060\n",
      "Non-trainable params: 0\n",
      "----------------------------------------------------------------\n",
      "Input size (MB): 0.00\n",
      "Forward/backward pass size (MB): 0.09\n",
      "Params size (MB): 3.14\n",
      "Estimated Total Size (MB): 3.24\n",
      "----------------------------------------------------------------\n"
     ]
    }
   ],
   "source": [
    "torchsummary.summary(FixedNeuralNetwork().to(device), (28*28,))"
   ]
  },
  {
   "cell_type": "code",
   "execution_count": 78,
   "metadata": {
    "colab": {
     "base_uri": "https://localhost:8080/"
    },
    "executionInfo": {
     "elapsed": 70019,
     "status": "ok",
     "timestamp": 1639170058845,
     "user": {
      "displayName": "Александр Алексеевич Печёнкин",
      "photoUrl": "https://lh3.googleusercontent.com/a/default-user=s64",
      "userId": "03490257034938610559"
     },
     "user_tz": -180
    },
    "id": "DgooyMS5zSPA",
    "outputId": "998416d2-fffa-41c0-8bd8-b6b27f3aa8f3"
   },
   "outputs": [
    {
     "name": "stdout",
     "output_type": "stream",
     "text": [
      "epoch 0\n",
      "epoch 1\n",
      "epoch 2\n",
      "epoch 3\n",
      "epoch 4\n",
      "epoch 5\n",
      "epoch 6\n",
      "epoch 7\n",
      "epoch 8\n",
      "epoch 9\n",
      "epoch 10\n",
      "epoch 11\n",
      "epoch 12\n",
      "epoch 13\n",
      "epoch 14\n",
      "epoch 15\n",
      "epoch 16\n",
      "epoch 17\n",
      "epoch 18\n",
      "epoch 19\n",
      "epoch 20\n",
      "epoch 21\n",
      "epoch 22\n",
      "epoch 23\n",
      "epoch 24\n",
      "epoch 25\n",
      "epoch 26\n",
      "epoch 27\n",
      "epoch 28\n",
      "epoch 29\n",
      "epoch 30\n",
      "epoch 31\n",
      "epoch 32\n",
      "epoch 33\n",
      "epoch 34\n",
      "epoch 35\n",
      "epoch 36\n",
      "epoch 37\n",
      "epoch 38\n",
      "epoch 39\n",
      "epoch 40\n",
      "epoch 41\n",
      "epoch 42\n",
      "epoch 43\n",
      "epoch 44\n",
      "epoch 45\n",
      "epoch 46\n",
      "epoch 47\n",
      "epoch 48\n",
      "epoch 49\n",
      "epoch 50\n",
      "epoch 51\n",
      "epoch 52\n",
      "epoch 53\n",
      "epoch 54\n",
      "epoch 55\n",
      "epoch 56\n",
      "epoch 57\n",
      "epoch 58\n",
      "epoch 59\n",
      "epoch 60\n",
      "epoch 61\n",
      "epoch 62\n",
      "epoch 63\n",
      "epoch 64\n",
      "epoch 65\n",
      "epoch 66\n",
      "epoch 67\n",
      "epoch 68\n",
      "epoch 69\n",
      "epoch 70\n",
      "epoch 71\n",
      "epoch 72\n",
      "epoch 73\n",
      "epoch 74\n",
      "epoch 75\n",
      "epoch 76\n",
      "epoch 77\n",
      "epoch 78\n",
      "epoch 79\n",
      "epoch 80\n",
      "epoch 81\n",
      "epoch 82\n",
      "epoch 83\n",
      "epoch 84\n",
      "epoch 85\n",
      "epoch 86\n",
      "epoch 87\n",
      "epoch 88\n",
      "epoch 89\n",
      "epoch 90\n",
      "epoch 91\n",
      "epoch 92\n",
      "epoch 93\n",
      "epoch 94\n",
      "epoch 95\n",
      "epoch 96\n",
      "epoch 97\n",
      "epoch 98\n",
      "epoch 99\n"
     ]
    }
   ],
   "source": [
    "model = FixedNeuralNetwork().to(device)\n",
    "opt = torch.optim.Adam(model.parameters(), lr=1e-3)\n",
    "loss_func = nn.CrossEntropyLoss()\n",
    "\n",
    "# Your experiments, come here\n",
    "loss_hist, acc_hist, loss_hist_val, acc_hist_val = make_train(model, opt, loss_func, train_loader_extract, 100, val_loader_extract)"
   ]
  },
  {
   "cell_type": "code",
   "execution_count": 79,
   "metadata": {
    "colab": {
     "base_uri": "https://localhost:8080/",
     "height": 1000
    },
    "executionInfo": {
     "elapsed": 708,
     "status": "ok",
     "timestamp": 1639170059531,
     "user": {
      "displayName": "Александр Алексеевич Печёнкин",
      "photoUrl": "https://lh3.googleusercontent.com/a/default-user=s64",
      "userId": "03490257034938610559"
     },
     "user_tz": -180
    },
    "id": "fl8vcbGdCeGA",
    "outputId": "4ad0c5e6-db5b-4ac5-d901-4124c3b115bd"
   },
   "outputs": [
    {
     "data": {
      "image/png": "[encoded data removed]",
      "text/plain": [
       "<Figure size 720x720 with 1 Axes>"
      ]
     },
     "metadata": {
      "needs_background": "light"
     },
     "output_type": "display_data"
    },
    {
     "data": {
      "image/png": "[encoded data removed]",
      "text/plain": [
       "<Figure size 720x720 with 1 Axes>"
      ]
     },
     "metadata": {
      "needs_background": "light"
     },
     "output_type": "display_data"
    },
    {
     "name": "stdout",
     "output_type": "stream",
     "text": [
      "test accuracy -- 0.9820000529289246\n",
      "validation accuracy -- 0.8130000233650208\n"
     ]
    }
   ],
   "source": [
    "build_plot(loss_hist, acc_hist, loss_hist_val, acc_hist_val)"
   ]
  },
  {
   "cell_type": "markdown",
   "metadata": {
    "id": "dMui_uLJ7G0d"
   },
   "source": [
    "### Conclusions:\n",
    "_Write down small report with your conclusions and your ideas._"
   ]
  },
  {
   "cell_type": "markdown",
   "metadata": {
    "id": "15JBMNXKJnA7"
   },
   "source": [
    "**Conclusion:** We can't avoid overfitting if we use a lot of epochs, but we can decrease it using Normalization and Dropout."
   ]
  }
 ],
 "metadata": {
  "accelerator": "GPU",
  "colab": {
   "collapsed_sections": [],
   "name": "Lab2_DL_part2_overfitting.ipynb",
   "provenance": []
  },
  "kernelspec": {
   "display_name": "Python 3",
   "language": "python",
   "name": "python3"
  },
  "language_info": {
   "codemirror_mode": {
    "name": "ipython",
    "version": 3
   },
   "file_extension": ".py",
   "mimetype": "text/x-python",
   "name": "python",
   "nbconvert_exporter": "python",
   "pygments_lexer": "ipython3",
   "version": "3.8.10"
  }
 },
 "nbformat": 4,
 "nbformat_minor": 1
}
